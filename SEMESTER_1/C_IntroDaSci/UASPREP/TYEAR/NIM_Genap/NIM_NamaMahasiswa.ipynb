{
 "cells": [
  {
   "cell_type": "markdown",
   "id": "0dfd9edb",
   "metadata": {},
   "source": [
    "# UAS - STAT6152016 - Introduction to Data Science"
   ]
  },
  {
   "cell_type": "markdown",
   "id": "50355c15",
   "metadata": {},
   "source": [
    "__Video (10 poin) : #letakkan link video Anda disini__"
   ]
  },
  {
   "cell_type": "markdown",
   "id": "9825beeb",
   "metadata": {},
   "source": [
    "### 1. Apa tujuan melakukan Exploratory Data Analysis (EDA)? (5 poin)"
   ]
  },
  {
   "cell_type": "markdown",
   "id": "3cd8135f",
   "metadata": {},
   "source": [
    "Tuliskan jawaban anda disini"
   ]
  },
  {
   "cell_type": "markdown",
   "id": "86e75f11",
   "metadata": {},
   "source": [
    "### 2.\tJelaskan setidaknya 2 cara/teknik dalam melakukan Exploratory Data Analysis (EDA)? (8 poin)"
   ]
  },
  {
   "cell_type": "markdown",
   "id": "254abf58",
   "metadata": {},
   "source": [
    "Tuliskan jawaban anda disini"
   ]
  },
  {
   "cell_type": "markdown",
   "id": "ea052c2a",
   "metadata": {},
   "source": [
    "### 3.Kapan kondisi yang tepat untuk menggunakan barchart, scatterplot, dan  histogram (12 poin)"
   ]
  },
  {
   "cell_type": "markdown",
   "id": "da984d3f",
   "metadata": {},
   "source": [
    "Tuliskan jawaban anda disini"
   ]
  },
  {
   "cell_type": "markdown",
   "id": "f9219009",
   "metadata": {},
   "source": [
    "### 4.Working with Data   \n",
    "   \n",
    "NIM dengan digit akhir Ganjil (contoh: 2602029371) gunakan file `‘CustomerChurnData.csv’`  \n",
    "NIM dengan digit akhir Genap (Contoh: 2602029372) gunakan file `‘StrokeData.csv’`"
   ]
  },
  {
   "cell_type": "markdown",
   "id": "dcfbd2b9",
   "metadata": {},
   "source": [
    "#### 4a. Data Loading & Cleaning (20 poin)"
   ]
  },
  {
   "cell_type": "markdown",
   "id": "d7cae156",
   "metadata": {},
   "source": [
    "Tuliskan jawaban anda disini"
   ]
  },
  {
   "cell_type": "code",
   "execution_count": 2,
   "id": "0b9fab29",
   "metadata": {},
   "outputs": [
    {
     "data": {
      "text/html": [
       "<div>\n",
       "<style scoped>\n",
       "    .dataframe tbody tr th:only-of-type {\n",
       "        vertical-align: middle;\n",
       "    }\n",
       "\n",
       "    .dataframe tbody tr th {\n",
       "        vertical-align: top;\n",
       "    }\n",
       "\n",
       "    .dataframe thead th {\n",
       "        text-align: right;\n",
       "    }\n",
       "</style>\n",
       "<table border=\"1\" class=\"dataframe\">\n",
       "  <thead>\n",
       "    <tr style=\"text-align: right;\">\n",
       "      <th></th>\n",
       "      <th>id</th>\n",
       "      <th>gender</th>\n",
       "      <th>age</th>\n",
       "      <th>hypertension</th>\n",
       "      <th>heart_disease</th>\n",
       "      <th>ever_married</th>\n",
       "      <th>work_type</th>\n",
       "      <th>Residence_type</th>\n",
       "      <th>avg_glucose_level</th>\n",
       "      <th>bmi</th>\n",
       "      <th>smoking_status</th>\n",
       "      <th>stroke</th>\n",
       "    </tr>\n",
       "  </thead>\n",
       "  <tbody>\n",
       "    <tr>\n",
       "      <th>0</th>\n",
       "      <td>9046</td>\n",
       "      <td>Male</td>\n",
       "      <td>67.0</td>\n",
       "      <td>0</td>\n",
       "      <td>1</td>\n",
       "      <td>Yes</td>\n",
       "      <td>Private</td>\n",
       "      <td>Urban</td>\n",
       "      <td>228.69</td>\n",
       "      <td>36.6</td>\n",
       "      <td>formerly smoked</td>\n",
       "      <td>1</td>\n",
       "    </tr>\n",
       "    <tr>\n",
       "      <th>1</th>\n",
       "      <td>51676</td>\n",
       "      <td>Female</td>\n",
       "      <td>61.0</td>\n",
       "      <td>0</td>\n",
       "      <td>0</td>\n",
       "      <td>Yes</td>\n",
       "      <td>Self-employed</td>\n",
       "      <td>Rural</td>\n",
       "      <td>202.21</td>\n",
       "      <td>NaN</td>\n",
       "      <td>never smoked</td>\n",
       "      <td>1</td>\n",
       "    </tr>\n",
       "    <tr>\n",
       "      <th>2</th>\n",
       "      <td>31112</td>\n",
       "      <td>Male</td>\n",
       "      <td>80.0</td>\n",
       "      <td>0</td>\n",
       "      <td>1</td>\n",
       "      <td>Yes</td>\n",
       "      <td>Private</td>\n",
       "      <td>Rural</td>\n",
       "      <td>105.92</td>\n",
       "      <td>32.5</td>\n",
       "      <td>never smoked</td>\n",
       "      <td>1</td>\n",
       "    </tr>\n",
       "    <tr>\n",
       "      <th>3</th>\n",
       "      <td>60182</td>\n",
       "      <td>Female</td>\n",
       "      <td>49.0</td>\n",
       "      <td>0</td>\n",
       "      <td>0</td>\n",
       "      <td>Yes</td>\n",
       "      <td>Private</td>\n",
       "      <td>Urban</td>\n",
       "      <td>171.23</td>\n",
       "      <td>34.4</td>\n",
       "      <td>smokes</td>\n",
       "      <td>1</td>\n",
       "    </tr>\n",
       "    <tr>\n",
       "      <th>4</th>\n",
       "      <td>1665</td>\n",
       "      <td>Female</td>\n",
       "      <td>79.0</td>\n",
       "      <td>1</td>\n",
       "      <td>0</td>\n",
       "      <td>Yes</td>\n",
       "      <td>Self-employed</td>\n",
       "      <td>Rural</td>\n",
       "      <td>174.12</td>\n",
       "      <td>24.0</td>\n",
       "      <td>never smoked</td>\n",
       "      <td>1</td>\n",
       "    </tr>\n",
       "  </tbody>\n",
       "</table>\n",
       "</div>"
      ],
      "text/plain": [
       "      id  gender   age  hypertension  heart_disease ever_married  \\\n",
       "0   9046    Male  67.0             0              1          Yes   \n",
       "1  51676  Female  61.0             0              0          Yes   \n",
       "2  31112    Male  80.0             0              1          Yes   \n",
       "3  60182  Female  49.0             0              0          Yes   \n",
       "4   1665  Female  79.0             1              0          Yes   \n",
       "\n",
       "       work_type Residence_type  avg_glucose_level   bmi   smoking_status  \\\n",
       "0        Private          Urban             228.69  36.6  formerly smoked   \n",
       "1  Self-employed          Rural             202.21   NaN     never smoked   \n",
       "2        Private          Rural             105.92  32.5     never smoked   \n",
       "3        Private          Urban             171.23  34.4           smokes   \n",
       "4  Self-employed          Rural             174.12  24.0     never smoked   \n",
       "\n",
       "   stroke  \n",
       "0       1  \n",
       "1       1  \n",
       "2       1  \n",
       "3       1  \n",
       "4       1  "
      ]
     },
     "execution_count": 2,
     "metadata": {},
     "output_type": "execute_result"
    }
   ],
   "source": [
    "import numpy as pd\n",
    "import pandas as pd\n",
    "import matplotlib.pyplot as pyplot\n",
    "import seaborn as sns\n",
    "\n",
    "df = pd.read_csv('StrokeData.csv')\n",
    "df.head()"
   ]
  },
  {
   "cell_type": "code",
   "execution_count": 3,
   "id": "115b7bbb",
   "metadata": {},
   "outputs": [
    {
     "name": "stdout",
     "output_type": "stream",
     "text": [
      "<class 'pandas.core.frame.DataFrame'>\n",
      "RangeIndex: 5110 entries, 0 to 5109\n",
      "Data columns (total 12 columns):\n",
      " #   Column             Non-Null Count  Dtype  \n",
      "---  ------             --------------  -----  \n",
      " 0   id                 5110 non-null   int64  \n",
      " 1   gender             5110 non-null   object \n",
      " 2   age                5110 non-null   float64\n",
      " 3   hypertension       5110 non-null   int64  \n",
      " 4   heart_disease      5110 non-null   int64  \n",
      " 5   ever_married       5110 non-null   object \n",
      " 6   work_type          5110 non-null   object \n",
      " 7   Residence_type     5110 non-null   object \n",
      " 8   avg_glucose_level  5110 non-null   float64\n",
      " 9   bmi                4909 non-null   float64\n",
      " 10  smoking_status     5110 non-null   object \n",
      " 11  stroke             5110 non-null   int64  \n",
      "dtypes: float64(3), int64(4), object(5)\n",
      "memory usage: 479.2+ KB\n"
     ]
    }
   ],
   "source": [
    "df.info()"
   ]
  },
  {
   "cell_type": "markdown",
   "id": "1aebefe1",
   "metadata": {},
   "source": [
    "#### 4b. Exploratory Data Analysis & Visualization (30 poin)"
   ]
  },
  {
   "cell_type": "markdown",
   "id": "f1cccc53",
   "metadata": {},
   "source": [
    "Tuliskan jawaban anda disini"
   ]
  },
  {
   "cell_type": "markdown",
   "id": "1dbc260a",
   "metadata": {},
   "source": [
    "#### 4c. Interpretasi Hasil (15 poin)"
   ]
  },
  {
   "cell_type": "markdown",
   "id": "9a52894e",
   "metadata": {},
   "source": [
    "Tuliskan jawaban anda disini"
   ]
  }
 ],
 "metadata": {
  "kernelspec": {
   "display_name": "DaSci",
   "language": "python",
   "name": "python3"
  },
  "language_info": {
   "codemirror_mode": {
    "name": "ipython",
    "version": 3
   },
   "file_extension": ".py",
   "mimetype": "text/x-python",
   "name": "python",
   "nbconvert_exporter": "python",
   "pygments_lexer": "ipython3",
   "version": "3.8.10"
  },
  "vscode": {
   "interpreter": {
    "hash": "e7e02b2e89ad476bfd9c9292f2a0d63b30eae74a2b4ddc9401d77ff5a5ec8957"
   }
  }
 },
 "nbformat": 4,
 "nbformat_minor": 5
}
