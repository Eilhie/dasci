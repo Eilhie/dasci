{
 "cells": [
  {
   "cell_type": "code",
   "execution_count": 423,
   "metadata": {},
   "outputs": [],
   "source": [
    "import numpy as np\n",
    "import seaborn as sns\n",
    "import pandas as pd\n",
    "import matplotlib.pyplot as plt\n",
    "\n",
    "\n",
    "import ydata_profiling as dp\n",
    "\n",
    "from sklearn.feature_selection import SelectKBest\n",
    "from sklearn.feature_selection import chi2\n",
    "\n",
    "from sklearn.linear_model import LogisticRegression\n",
    "from sklearn.tree import DecisionTreeClassifier\n",
    "from sklearn.ensemble import RandomForestClassifier\n",
    "\n",
    "from sklearn.model_selection import train_test_split\n",
    "from sklearn.preprocessing import LabelEncoder, MinMaxScaler\n",
    "\n",
    "from skmultilearn.problem_transform import BinaryRelevance\n",
    "\n",
    "from sklearn.metrics import accuracy_score\n",
    "\n",
    "from fancyimpute import IterativeImputer\n",
    "\n",
    "\n",
    "# Removing warnings\n",
    "\n",
    "import warnings\n",
    "warnings.filterwarnings('ignore')"
   ]
  },
  {
   "cell_type": "code",
   "execution_count": 424,
   "metadata": {},
   "outputs": [],
   "source": [
    "features = pd.read_csv(\"train_features.csv\")\n",
    "labels = pd.read_csv(\"train_label.csv\")"
   ]
  },
  {
   "cell_type": "code",
   "execution_count": 425,
   "metadata": {},
   "outputs": [
    {
     "data": {
      "text/html": [
       "<div>\n",
       "<style scoped>\n",
       "    .dataframe tbody tr th:only-of-type {\n",
       "        vertical-align: middle;\n",
       "    }\n",
       "\n",
       "    .dataframe tbody tr th {\n",
       "        vertical-align: top;\n",
       "    }\n",
       "\n",
       "    .dataframe thead th {\n",
       "        text-align: right;\n",
       "    }\n",
       "</style>\n",
       "<table border=\"1\" class=\"dataframe\">\n",
       "  <thead>\n",
       "    <tr style=\"text-align: right;\">\n",
       "      <th></th>\n",
       "      <th>facilities</th>\n",
       "      <th>rating</th>\n",
       "      <th>location</th>\n",
       "    </tr>\n",
       "  </thead>\n",
       "  <tbody>\n",
       "    <tr>\n",
       "      <th>0</th>\n",
       "      <td>RestaurantBARSwimmingPools</td>\n",
       "      <td>7.8 Very GoodFrom 10 reviews</td>\n",
       "      <td>Stokol</td>\n",
       "    </tr>\n",
       "    <tr>\n",
       "      <th>1</th>\n",
       "      <td>intrnetRestaurantgym</td>\n",
       "      <td>5.6 GoodFrom 4 reviews</td>\n",
       "      <td>Machlessvile</td>\n",
       "    </tr>\n",
       "    <tr>\n",
       "      <th>2</th>\n",
       "      <td>restaurantgympoolBar</td>\n",
       "      <td>7.2 Very GoodFrom 38 reviews</td>\n",
       "      <td>Wanderland</td>\n",
       "    </tr>\n",
       "    <tr>\n",
       "      <th>3</th>\n",
       "      <td>BARRestaurant</td>\n",
       "      <td>7.3 Very GoodFrom 6 reviews</td>\n",
       "      <td>Uberlandia</td>\n",
       "    </tr>\n",
       "    <tr>\n",
       "      <th>4</th>\n",
       "      <td>InternetRestaurant</td>\n",
       "      <td>7.2 Very GoodFrom 30 reviews</td>\n",
       "      <td>Stokol</td>\n",
       "    </tr>\n",
       "  </tbody>\n",
       "</table>\n",
       "</div>"
      ],
      "text/plain": [
       "                   facilities                        rating      location\n",
       "0  RestaurantBARSwimmingPools  7.8 Very GoodFrom 10 reviews        Stokol\n",
       "1        intrnetRestaurantgym        5.6 GoodFrom 4 reviews  Machlessvile\n",
       "2        restaurantgympoolBar  7.2 Very GoodFrom 38 reviews    Wanderland\n",
       "3               BARRestaurant   7.3 Very GoodFrom 6 reviews    Uberlandia\n",
       "4          InternetRestaurant  7.2 Very GoodFrom 30 reviews        Stokol"
      ]
     },
     "execution_count": 425,
     "metadata": {},
     "output_type": "execute_result"
    }
   ],
   "source": [
    "features.head()"
   ]
  },
  {
   "cell_type": "code",
   "execution_count": 426,
   "metadata": {},
   "outputs": [
    {
     "data": {
      "text/html": [
       "<div>\n",
       "<style scoped>\n",
       "    .dataframe tbody tr th:only-of-type {\n",
       "        vertical-align: middle;\n",
       "    }\n",
       "\n",
       "    .dataframe tbody tr th {\n",
       "        vertical-align: top;\n",
       "    }\n",
       "\n",
       "    .dataframe thead th {\n",
       "        text-align: right;\n",
       "    }\n",
       "</style>\n",
       "<table border=\"1\" class=\"dataframe\">\n",
       "  <thead>\n",
       "    <tr style=\"text-align: right;\">\n",
       "      <th></th>\n",
       "      <th>Price</th>\n",
       "    </tr>\n",
       "  </thead>\n",
       "  <tbody>\n",
       "    <tr>\n",
       "      <th>0</th>\n",
       "      <td>13,500avg/night</td>\n",
       "    </tr>\n",
       "    <tr>\n",
       "      <th>1</th>\n",
       "      <td>13,000avg/night</td>\n",
       "    </tr>\n",
       "    <tr>\n",
       "      <th>2</th>\n",
       "      <td>19,000avg/night</td>\n",
       "    </tr>\n",
       "    <tr>\n",
       "      <th>3</th>\n",
       "      <td>6,000avg/night</td>\n",
       "    </tr>\n",
       "    <tr>\n",
       "      <th>4</th>\n",
       "      <td>20,000avg/night</td>\n",
       "    </tr>\n",
       "  </tbody>\n",
       "</table>\n",
       "</div>"
      ],
      "text/plain": [
       "             Price\n",
       "0  13,500avg/night\n",
       "1  13,000avg/night\n",
       "2  19,000avg/night\n",
       "3   6,000avg/night\n",
       "4  20,000avg/night"
      ]
     },
     "execution_count": 426,
     "metadata": {},
     "output_type": "execute_result"
    }
   ],
   "source": [
    "labels.head()"
   ]
  },
  {
   "cell_type": "code",
   "execution_count": 427,
   "metadata": {},
   "outputs": [
    {
     "name": "stdout",
     "output_type": "stream",
     "text": [
      "<class 'pandas.core.frame.DataFrame'>\n",
      "RangeIndex: 3066 entries, 0 to 3065\n",
      "Data columns (total 3 columns):\n",
      " #   Column      Non-Null Count  Dtype \n",
      "---  ------      --------------  ----- \n",
      " 0   facilities  2765 non-null   object\n",
      " 1   rating      2429 non-null   object\n",
      " 2   location    3066 non-null   object\n",
      "dtypes: object(3)\n",
      "memory usage: 72.0+ KB\n"
     ]
    }
   ],
   "source": [
    "features.info()"
   ]
  },
  {
   "cell_type": "code",
   "execution_count": 428,
   "metadata": {},
   "outputs": [
    {
     "name": "stdout",
     "output_type": "stream",
     "text": [
      "<class 'pandas.core.frame.DataFrame'>\n",
      "RangeIndex: 3066 entries, 0 to 3065\n",
      "Data columns (total 1 columns):\n",
      " #   Column  Non-Null Count  Dtype \n",
      "---  ------  --------------  ----- \n",
      " 0   Price   3066 non-null   object\n",
      "dtypes: object(1)\n",
      "memory usage: 24.1+ KB\n"
     ]
    }
   ],
   "source": [
    "labels.info()"
   ]
  },
  {
   "cell_type": "code",
   "execution_count": 429,
   "metadata": {},
   "outputs": [],
   "source": [
    "# Convert to lowercase\n",
    "features['facilities'] = features['facilities'].str.lower()\n",
    "\n",
    "# Define facility patterns to extract\n",
    "facility_patterns = ['restaurant', 'bar', 'swimmingpools', 'internet', 'gym', 'pool']\n",
    "\n",
    "# Create a pattern for matching any facility pattern\n",
    "facility_pattern = '|'.join(facility_patterns)\n",
    "\n",
    "# Extract all facilities using the pattern\n",
    "features['facilities'] = features['facilities'].str.extractall(f'({facility_pattern})')[0].groupby(level=0).apply(list)"
   ]
  },
  {
   "cell_type": "code",
   "execution_count": 430,
   "metadata": {},
   "outputs": [
    {
     "data": {
      "text/html": [
       "<div>\n",
       "<style scoped>\n",
       "    .dataframe tbody tr th:only-of-type {\n",
       "        vertical-align: middle;\n",
       "    }\n",
       "\n",
       "    .dataframe tbody tr th {\n",
       "        vertical-align: top;\n",
       "    }\n",
       "\n",
       "    .dataframe thead th {\n",
       "        text-align: right;\n",
       "    }\n",
       "</style>\n",
       "<table border=\"1\" class=\"dataframe\">\n",
       "  <thead>\n",
       "    <tr style=\"text-align: right;\">\n",
       "      <th></th>\n",
       "      <th>facilities</th>\n",
       "      <th>rating</th>\n",
       "      <th>location</th>\n",
       "    </tr>\n",
       "  </thead>\n",
       "  <tbody>\n",
       "    <tr>\n",
       "      <th>0</th>\n",
       "      <td>[restaurant, bar, swimmingpools]</td>\n",
       "      <td>7.8 Very GoodFrom 10 reviews</td>\n",
       "      <td>Stokol</td>\n",
       "    </tr>\n",
       "    <tr>\n",
       "      <th>1</th>\n",
       "      <td>[restaurant, gym]</td>\n",
       "      <td>5.6 GoodFrom 4 reviews</td>\n",
       "      <td>Machlessvile</td>\n",
       "    </tr>\n",
       "    <tr>\n",
       "      <th>2</th>\n",
       "      <td>[restaurant, gym, pool, bar]</td>\n",
       "      <td>7.2 Very GoodFrom 38 reviews</td>\n",
       "      <td>Wanderland</td>\n",
       "    </tr>\n",
       "    <tr>\n",
       "      <th>3</th>\n",
       "      <td>[bar, restaurant]</td>\n",
       "      <td>7.3 Very GoodFrom 6 reviews</td>\n",
       "      <td>Uberlandia</td>\n",
       "    </tr>\n",
       "    <tr>\n",
       "      <th>4</th>\n",
       "      <td>[internet, restaurant]</td>\n",
       "      <td>7.2 Very GoodFrom 30 reviews</td>\n",
       "      <td>Stokol</td>\n",
       "    </tr>\n",
       "  </tbody>\n",
       "</table>\n",
       "</div>"
      ],
      "text/plain": [
       "                         facilities                        rating  \\\n",
       "0  [restaurant, bar, swimmingpools]  7.8 Very GoodFrom 10 reviews   \n",
       "1                 [restaurant, gym]        5.6 GoodFrom 4 reviews   \n",
       "2      [restaurant, gym, pool, bar]  7.2 Very GoodFrom 38 reviews   \n",
       "3                 [bar, restaurant]   7.3 Very GoodFrom 6 reviews   \n",
       "4            [internet, restaurant]  7.2 Very GoodFrom 30 reviews   \n",
       "\n",
       "       location  \n",
       "0        Stokol  \n",
       "1  Machlessvile  \n",
       "2    Wanderland  \n",
       "3    Uberlandia  \n",
       "4        Stokol  "
      ]
     },
     "execution_count": 430,
     "metadata": {},
     "output_type": "execute_result"
    }
   ],
   "source": [
    "features.head()"
   ]
  },
  {
   "cell_type": "code",
   "execution_count": 431,
   "metadata": {},
   "outputs": [
    {
     "data": {
      "text/plain": [
       "0               [restaurant, bar, swimmingpools]\n",
       "1                              [restaurant, gym]\n",
       "2                   [restaurant, gym, pool, bar]\n",
       "3                              [bar, restaurant]\n",
       "4                         [internet, restaurant]\n",
       "5                                     [internet]\n",
       "6                                          [bar]\n",
       "7                              [bar, restaurant]\n",
       "8                              [bar, restaurant]\n",
       "9                              [bar, restaurant]\n",
       "10        [restaurant, gym, internet, bar, pool]\n",
       "11                   [bar, internet, restaurant]\n",
       "12                             [bar, restaurant]\n",
       "13                        [internet, restaurant]\n",
       "14                             [bar, restaurant]\n",
       "15                                     [unknown]\n",
       "16                                     [unknown]\n",
       "17                                         [bar]\n",
       "18                             [bar, restaurant]\n",
       "19             [restaurant, pool, bar, internet]\n",
       "20                             [bar, restaurant]\n",
       "21                             [restaurant, bar]\n",
       "22                                         [bar]\n",
       "23        [internet, restaurant, gym, bar, pool]\n",
       "24                            [pool, restaurant]\n",
       "25                                         [bar]\n",
       "26                [swimmingpools, bar, internet]\n",
       "27                             [restaurant, bar]\n",
       "28                                         [bar]\n",
       "29                                     [unknown]\n",
       "30                             [restaurant, bar]\n",
       "31                                  [restaurant]\n",
       "32                   [internet, restaurant, bar]\n",
       "33              [restaurant, swimmingpools, bar]\n",
       "34                                         [bar]\n",
       "35         [swimmingpools, restaurant, gym, bar]\n",
       "36                            [restaurant, pool]\n",
       "37         [restaurant, bar, gym, swimmingpools]\n",
       "38                  [bar, gym, restaurant, pool]\n",
       "39    [swimmingpools, bar, internet, restaurant]\n",
       "40                             [bar, restaurant]\n",
       "41                             [bar, restaurant]\n",
       "42                                         [bar]\n",
       "43                   [internet, restaurant, bar]\n",
       "44                                     [unknown]\n",
       "45              [restaurant, bar, swimmingpools]\n",
       "46                              [gym, pool, bar]\n",
       "47                  [pool, gym, bar, restaurant]\n",
       "48                  [internet, pool, restaurant]\n",
       "49                             [restaurant, gym]\n",
       "Name: facilities, dtype: object"
      ]
     },
     "execution_count": 431,
     "metadata": {},
     "output_type": "execute_result"
    }
   ],
   "source": [
    "features['facilities'] = features['facilities'].fillna('[unknown]')\n",
    "features['facilities'].head(50)"
   ]
  },
  {
   "cell_type": "code",
   "execution_count": 432,
   "metadata": {},
   "outputs": [],
   "source": [
    "import re\n",
    "# Extract numerical rating using regular expression with str.extract()\n",
    "features['rating'] = features['rating'].str.extract(r'(\\d+\\.\\d+)').astype(float)\n"
   ]
  },
  {
   "cell_type": "code",
   "execution_count": 433,
   "metadata": {},
   "outputs": [],
   "source": [
    "features['rating'].fillna(features['rating'].median(), inplace=True)"
   ]
  },
  {
   "cell_type": "code",
   "execution_count": 434,
   "metadata": {},
   "outputs": [
    {
     "data": {
      "text/plain": [
       "count    3066.000000\n",
       "mean        7.309589\n",
       "std         1.208299\n",
       "min         2.000000\n",
       "25%         6.900000\n",
       "50%         7.400000\n",
       "75%         8.000000\n",
       "max        10.000000\n",
       "Name: rating, dtype: float64"
      ]
     },
     "execution_count": 434,
     "metadata": {},
     "output_type": "execute_result"
    }
   ],
   "source": [
    "features['rating'].describe()"
   ]
  },
  {
   "cell_type": "code",
   "execution_count": 435,
   "metadata": {},
   "outputs": [
    {
     "data": {
      "text/plain": [
       "0      7.8\n",
       "1      5.6\n",
       "2      7.2\n",
       "3      7.3\n",
       "4      7.2\n",
       "5      5.4\n",
       "6      7.9\n",
       "7      7.3\n",
       "8      7.4\n",
       "9      7.7\n",
       "10     6.9\n",
       "11     9.6\n",
       "12     7.4\n",
       "13     7.4\n",
       "14     7.4\n",
       "15     5.4\n",
       "16     7.4\n",
       "17     7.4\n",
       "18     9.6\n",
       "19     2.4\n",
       "20     7.8\n",
       "21     9.6\n",
       "22     7.8\n",
       "23     7.2\n",
       "24     8.1\n",
       "25     7.4\n",
       "26     8.8\n",
       "27     8.0\n",
       "28     7.4\n",
       "29     6.0\n",
       "30     7.4\n",
       "31     7.2\n",
       "32     7.4\n",
       "33     8.0\n",
       "34     7.4\n",
       "35     8.8\n",
       "36     8.1\n",
       "37     7.2\n",
       "38     7.7\n",
       "39     7.9\n",
       "40     6.7\n",
       "41     7.4\n",
       "42     7.4\n",
       "43     5.6\n",
       "44     7.4\n",
       "45    10.0\n",
       "46     8.6\n",
       "47     7.0\n",
       "48     6.4\n",
       "49     5.6\n",
       "Name: rating, dtype: float64"
      ]
     },
     "execution_count": 435,
     "metadata": {},
     "output_type": "execute_result"
    }
   ],
   "source": [
    "features['rating'].head(50)"
   ]
  },
  {
   "cell_type": "code",
   "execution_count": 436,
   "metadata": {},
   "outputs": [],
   "source": [
    "label_encoder = LabelEncoder()\n",
    "\n",
    "# Perform label encoding on 'location' column\n",
    "features['location'] = label_encoder.fit_transform(features['location'])"
   ]
  },
  {
   "cell_type": "code",
   "execution_count": 437,
   "metadata": {},
   "outputs": [
    {
     "data": {
      "text/plain": [
       "0       3\n",
       "1       2\n",
       "2       6\n",
       "3       4\n",
       "4       3\n",
       "       ..\n",
       "3061    0\n",
       "3062    4\n",
       "3063    7\n",
       "3064    1\n",
       "3065    0\n",
       "Name: location, Length: 3066, dtype: int64"
      ]
     },
     "execution_count": 437,
     "metadata": {},
     "output_type": "execute_result"
    }
   ],
   "source": [
    "features['location']"
   ]
  },
  {
   "cell_type": "code",
   "execution_count": 438,
   "metadata": {},
   "outputs": [],
   "source": [
    "facility_dummies = pd.get_dummies(features['facilities'].apply(pd.Series).stack()).sum(level=0)"
   ]
  },
  {
   "cell_type": "code",
   "execution_count": 439,
   "metadata": {},
   "outputs": [],
   "source": [
    "features_encoded = pd.concat([features, facility_dummies], axis=1)\n",
    "features_encoded = features_encoded.drop('facilities', axis=1)"
   ]
  },
  {
   "cell_type": "code",
   "execution_count": 440,
   "metadata": {},
   "outputs": [
    {
     "data": {
      "text/html": [
       "<div>\n",
       "<style scoped>\n",
       "    .dataframe tbody tr th:only-of-type {\n",
       "        vertical-align: middle;\n",
       "    }\n",
       "\n",
       "    .dataframe tbody tr th {\n",
       "        vertical-align: top;\n",
       "    }\n",
       "\n",
       "    .dataframe thead th {\n",
       "        text-align: right;\n",
       "    }\n",
       "</style>\n",
       "<table border=\"1\" class=\"dataframe\">\n",
       "  <thead>\n",
       "    <tr style=\"text-align: right;\">\n",
       "      <th></th>\n",
       "      <th>rating</th>\n",
       "      <th>location</th>\n",
       "      <th>[unknown]</th>\n",
       "      <th>bar</th>\n",
       "      <th>gym</th>\n",
       "      <th>internet</th>\n",
       "      <th>pool</th>\n",
       "      <th>restaurant</th>\n",
       "      <th>swimmingpools</th>\n",
       "    </tr>\n",
       "  </thead>\n",
       "  <tbody>\n",
       "    <tr>\n",
       "      <th>0</th>\n",
       "      <td>7.8</td>\n",
       "      <td>3</td>\n",
       "      <td>0</td>\n",
       "      <td>1</td>\n",
       "      <td>0</td>\n",
       "      <td>0</td>\n",
       "      <td>0</td>\n",
       "      <td>1</td>\n",
       "      <td>1</td>\n",
       "    </tr>\n",
       "    <tr>\n",
       "      <th>1</th>\n",
       "      <td>5.6</td>\n",
       "      <td>2</td>\n",
       "      <td>0</td>\n",
       "      <td>0</td>\n",
       "      <td>1</td>\n",
       "      <td>0</td>\n",
       "      <td>0</td>\n",
       "      <td>1</td>\n",
       "      <td>0</td>\n",
       "    </tr>\n",
       "    <tr>\n",
       "      <th>2</th>\n",
       "      <td>7.2</td>\n",
       "      <td>6</td>\n",
       "      <td>0</td>\n",
       "      <td>1</td>\n",
       "      <td>1</td>\n",
       "      <td>0</td>\n",
       "      <td>1</td>\n",
       "      <td>1</td>\n",
       "      <td>0</td>\n",
       "    </tr>\n",
       "    <tr>\n",
       "      <th>3</th>\n",
       "      <td>7.3</td>\n",
       "      <td>4</td>\n",
       "      <td>0</td>\n",
       "      <td>1</td>\n",
       "      <td>0</td>\n",
       "      <td>0</td>\n",
       "      <td>0</td>\n",
       "      <td>1</td>\n",
       "      <td>0</td>\n",
       "    </tr>\n",
       "    <tr>\n",
       "      <th>4</th>\n",
       "      <td>7.2</td>\n",
       "      <td>3</td>\n",
       "      <td>0</td>\n",
       "      <td>0</td>\n",
       "      <td>0</td>\n",
       "      <td>1</td>\n",
       "      <td>0</td>\n",
       "      <td>1</td>\n",
       "      <td>0</td>\n",
       "    </tr>\n",
       "  </tbody>\n",
       "</table>\n",
       "</div>"
      ],
      "text/plain": [
       "   rating  location  [unknown]  bar  gym  internet  pool  restaurant  \\\n",
       "0     7.8         3          0    1    0         0     0           1   \n",
       "1     5.6         2          0    0    1         0     0           1   \n",
       "2     7.2         6          0    1    1         0     1           1   \n",
       "3     7.3         4          0    1    0         0     0           1   \n",
       "4     7.2         3          0    0    0         1     0           1   \n",
       "\n",
       "   swimmingpools  \n",
       "0              1  \n",
       "1              0  \n",
       "2              0  \n",
       "3              0  \n",
       "4              0  "
      ]
     },
     "execution_count": 440,
     "metadata": {},
     "output_type": "execute_result"
    }
   ],
   "source": [
    "features_encoded.head()"
   ]
  },
  {
   "cell_type": "code",
   "execution_count": 441,
   "metadata": {},
   "outputs": [
    {
     "data": {
      "text/html": [
       "<div>\n",
       "<style scoped>\n",
       "    .dataframe tbody tr th:only-of-type {\n",
       "        vertical-align: middle;\n",
       "    }\n",
       "\n",
       "    .dataframe tbody tr th {\n",
       "        vertical-align: top;\n",
       "    }\n",
       "\n",
       "    .dataframe thead th {\n",
       "        text-align: right;\n",
       "    }\n",
       "</style>\n",
       "<table border=\"1\" class=\"dataframe\">\n",
       "  <thead>\n",
       "    <tr style=\"text-align: right;\">\n",
       "      <th></th>\n",
       "      <th>Price</th>\n",
       "    </tr>\n",
       "  </thead>\n",
       "  <tbody>\n",
       "    <tr>\n",
       "      <th>0</th>\n",
       "      <td>13500</td>\n",
       "    </tr>\n",
       "    <tr>\n",
       "      <th>1</th>\n",
       "      <td>13000</td>\n",
       "    </tr>\n",
       "    <tr>\n",
       "      <th>2</th>\n",
       "      <td>19000</td>\n",
       "    </tr>\n",
       "    <tr>\n",
       "      <th>3</th>\n",
       "      <td>6000</td>\n",
       "    </tr>\n",
       "    <tr>\n",
       "      <th>4</th>\n",
       "      <td>20000</td>\n",
       "    </tr>\n",
       "    <tr>\n",
       "      <th>...</th>\n",
       "      <td>...</td>\n",
       "    </tr>\n",
       "    <tr>\n",
       "      <th>3061</th>\n",
       "      <td>31625</td>\n",
       "    </tr>\n",
       "    <tr>\n",
       "      <th>3062</th>\n",
       "      <td>30500</td>\n",
       "    </tr>\n",
       "    <tr>\n",
       "      <th>3063</th>\n",
       "      <td>14000</td>\n",
       "    </tr>\n",
       "    <tr>\n",
       "      <th>3064</th>\n",
       "      <td>8500</td>\n",
       "    </tr>\n",
       "    <tr>\n",
       "      <th>3065</th>\n",
       "      <td>19000</td>\n",
       "    </tr>\n",
       "  </tbody>\n",
       "</table>\n",
       "<p>3066 rows × 1 columns</p>\n",
       "</div>"
      ],
      "text/plain": [
       "      Price\n",
       "0     13500\n",
       "1     13000\n",
       "2     19000\n",
       "3      6000\n",
       "4     20000\n",
       "...     ...\n",
       "3061  31625\n",
       "3062  30500\n",
       "3063  14000\n",
       "3064   8500\n",
       "3065  19000\n",
       "\n",
       "[3066 rows x 1 columns]"
      ]
     },
     "execution_count": 441,
     "metadata": {},
     "output_type": "execute_result"
    }
   ],
   "source": [
    "labels['Price'] = labels['Price'].str.split('avg/night', expand=True)[0].str.replace(',', '').astype(int)\n",
    "labels"
   ]
  },
  {
   "cell_type": "code",
   "execution_count": 442,
   "metadata": {},
   "outputs": [],
   "source": [
    "# Split the data into train and test sets\n",
    "X_train, X_test, y_train, y_test = train_test_split(features_encoded, labels, test_size=0.2, random_state=42)"
   ]
  },
  {
   "cell_type": "code",
   "execution_count": 443,
   "metadata": {},
   "outputs": [],
   "source": [
    "from sklearn.linear_model import LinearRegression\n",
    "from sklearn.tree import DecisionTreeRegressor\n",
    "from sklearn.ensemble import RandomForestRegressor\n",
    "from sklearn.ensemble import GradientBoostingRegressor\n",
    "from sklearn.svm import SVR\n",
    "from sklearn.metrics import mean_absolute_error"
   ]
  },
  {
   "cell_type": "code",
   "execution_count": 444,
   "metadata": {},
   "outputs": [
    {
     "name": "stdout",
     "output_type": "stream",
     "text": [
      "Mean Absolute Error: 10010.90152341883\n"
     ]
    }
   ],
   "source": [
    "# Create and fit the model\n",
    "modelLR = LinearRegression()\n",
    "modelLR.fit(X_train, y_train)\n",
    "\n",
    "# Make predictions on the test set\n",
    "y_pred = modelLR.predict(X_test)\n",
    "\n",
    "# Calculate the mean absolute error\n",
    "mae = mean_absolute_error(y_test, y_pred)\n",
    "print(\"Mean Absolute Error:\", mae)"
   ]
  },
  {
   "cell_type": "code",
   "execution_count": 445,
   "metadata": {},
   "outputs": [
    {
     "name": "stdout",
     "output_type": "stream",
     "text": [
      "Mean Absolute Error: 7908.91765391159\n"
     ]
    }
   ],
   "source": [
    "# Create and fit the model\n",
    "modelDT = DecisionTreeRegressor()\n",
    "modelDT.fit(X_train, y_train)\n",
    "\n",
    "# Make predictions on the test set\n",
    "y_pred = modelDT.predict(X_test)\n",
    "\n",
    "# Calculate the mean absolute error\n",
    "mae = mean_absolute_error(y_test, y_pred)\n",
    "print(\"Mean Absolute Error:\", mae)"
   ]
  },
  {
   "cell_type": "code",
   "execution_count": 446,
   "metadata": {},
   "outputs": [
    {
     "name": "stdout",
     "output_type": "stream",
     "text": [
      "Mean Absolute Error: 7900.018768773712\n"
     ]
    }
   ],
   "source": [
    "# Create and fit the model\n",
    "modelRF = RandomForestRegressor()\n",
    "modelRF.fit(X_train, y_train)\n",
    "\n",
    "# Make predictions on the test set\n",
    "y_pred = modelRF.predict(X_test)\n",
    "\n",
    "# Calculate the mean absolute error\n",
    "mae = mean_absolute_error(y_test, y_pred)\n",
    "print(\"Mean Absolute Error:\", mae)"
   ]
  },
  {
   "cell_type": "code",
   "execution_count": 447,
   "metadata": {},
   "outputs": [
    {
     "name": "stdout",
     "output_type": "stream",
     "text": [
      "Mean Absolute Error: 8869.853989796176\n"
     ]
    }
   ],
   "source": [
    "# Create and fit the model\n",
    "modelGB = GradientBoostingRegressor()\n",
    "modelGB.fit(X_train, y_train)\n",
    "\n",
    "# Make predictions on the test set\n",
    "y_pred = modelGB.predict(X_test)\n",
    "\n",
    "# Calculate the mean absolute error\n",
    "mae = mean_absolute_error(y_test, y_pred)\n",
    "print(\"Mean Absolute Error:\", mae)"
   ]
  },
  {
   "cell_type": "code",
   "execution_count": 448,
   "metadata": {},
   "outputs": [],
   "source": [
    "new_data = pd.read_csv('test_feature.csv')"
   ]
  },
  {
   "cell_type": "code",
   "execution_count": 449,
   "metadata": {},
   "outputs": [
    {
     "data": {
      "text/html": [
       "<div>\n",
       "<style scoped>\n",
       "    .dataframe tbody tr th:only-of-type {\n",
       "        vertical-align: middle;\n",
       "    }\n",
       "\n",
       "    .dataframe tbody tr th {\n",
       "        vertical-align: top;\n",
       "    }\n",
       "\n",
       "    .dataframe thead th {\n",
       "        text-align: right;\n",
       "    }\n",
       "</style>\n",
       "<table border=\"1\" class=\"dataframe\">\n",
       "  <thead>\n",
       "    <tr style=\"text-align: right;\">\n",
       "      <th></th>\n",
       "      <th>ID</th>\n",
       "      <th>facilities</th>\n",
       "      <th>rating</th>\n",
       "      <th>location</th>\n",
       "    </tr>\n",
       "  </thead>\n",
       "  <tbody>\n",
       "    <tr>\n",
       "      <th>0</th>\n",
       "      <td>0</td>\n",
       "      <td>GymrestaurantbarInternetSwimmingPools</td>\n",
       "      <td>8.0 ExcellentFrom 1 reviews</td>\n",
       "      <td>Stokol</td>\n",
       "    </tr>\n",
       "    <tr>\n",
       "      <th>1</th>\n",
       "      <td>1</td>\n",
       "      <td>Poolrestaurantgyminternetbar</td>\n",
       "      <td>7.4 Very GoodFrom 22 reviews</td>\n",
       "      <td>Hallerson</td>\n",
       "    </tr>\n",
       "    <tr>\n",
       "      <th>2</th>\n",
       "      <td>2</td>\n",
       "      <td>BARSwimmingPoolsInternetgym</td>\n",
       "      <td>0.0 FairFrom 4 reviews</td>\n",
       "      <td>Hallerson</td>\n",
       "    </tr>\n",
       "    <tr>\n",
       "      <th>3</th>\n",
       "      <td>3</td>\n",
       "      <td>gymSwimmingPoolsBARintrnetRestaurant</td>\n",
       "      <td>6.8 Very GoodFrom 13 reviews</td>\n",
       "      <td>Andeman</td>\n",
       "    </tr>\n",
       "    <tr>\n",
       "      <th>4</th>\n",
       "      <td>4</td>\n",
       "      <td>gymRestaurantpoolbarintrnet</td>\n",
       "      <td>0.0 FairFrom 9 reviews</td>\n",
       "      <td>Hallerson</td>\n",
       "    </tr>\n",
       "    <tr>\n",
       "      <th>5</th>\n",
       "      <td>5</td>\n",
       "      <td>swimmingpoolsbarInternetrestaurantgym</td>\n",
       "      <td>0.0 FairFrom 13 reviews</td>\n",
       "      <td>Andeman</td>\n",
       "    </tr>\n",
       "    <tr>\n",
       "      <th>6</th>\n",
       "      <td>6</td>\n",
       "      <td>intrnetPoolGymbarRestaurant</td>\n",
       "      <td>7.1 Very GoodFrom 23 reviews</td>\n",
       "      <td>Wanderland</td>\n",
       "    </tr>\n",
       "    <tr>\n",
       "      <th>7</th>\n",
       "      <td>7</td>\n",
       "      <td>RestaurantPoolBarintrnetgym</td>\n",
       "      <td>5.1 GoodFrom 5 reviews</td>\n",
       "      <td>Stokol</td>\n",
       "    </tr>\n",
       "    <tr>\n",
       "      <th>8</th>\n",
       "      <td>8</td>\n",
       "      <td>Restaurantswimmingpoolsgymbarintrnet</td>\n",
       "      <td>5.8 GoodFrom 13 reviews</td>\n",
       "      <td>Machlessvile</td>\n",
       "    </tr>\n",
       "    <tr>\n",
       "      <th>9</th>\n",
       "      <td>9</td>\n",
       "      <td>GymrestaurantintrnetSwimmingPoolsbar</td>\n",
       "      <td>7.3 Very GoodFrom 10 reviews</td>\n",
       "      <td>Willsmian</td>\n",
       "    </tr>\n",
       "  </tbody>\n",
       "</table>\n",
       "</div>"
      ],
      "text/plain": [
       "   ID                             facilities                        rating  \\\n",
       "0   0  GymrestaurantbarInternetSwimmingPools   8.0 ExcellentFrom 1 reviews   \n",
       "1   1           Poolrestaurantgyminternetbar  7.4 Very GoodFrom 22 reviews   \n",
       "2   2            BARSwimmingPoolsInternetgym        0.0 FairFrom 4 reviews   \n",
       "3   3   gymSwimmingPoolsBARintrnetRestaurant  6.8 Very GoodFrom 13 reviews   \n",
       "4   4            gymRestaurantpoolbarintrnet        0.0 FairFrom 9 reviews   \n",
       "5   5  swimmingpoolsbarInternetrestaurantgym       0.0 FairFrom 13 reviews   \n",
       "6   6            intrnetPoolGymbarRestaurant  7.1 Very GoodFrom 23 reviews   \n",
       "7   7            RestaurantPoolBarintrnetgym        5.1 GoodFrom 5 reviews   \n",
       "8   8   Restaurantswimmingpoolsgymbarintrnet       5.8 GoodFrom 13 reviews   \n",
       "9   9   GymrestaurantintrnetSwimmingPoolsbar  7.3 Very GoodFrom 10 reviews   \n",
       "\n",
       "       location  \n",
       "0        Stokol  \n",
       "1     Hallerson  \n",
       "2     Hallerson  \n",
       "3       Andeman  \n",
       "4     Hallerson  \n",
       "5       Andeman  \n",
       "6    Wanderland  \n",
       "7        Stokol  \n",
       "8  Machlessvile  \n",
       "9     Willsmian  "
      ]
     },
     "execution_count": 449,
     "metadata": {},
     "output_type": "execute_result"
    }
   ],
   "source": [
    "new_data.head(10)"
   ]
  },
  {
   "cell_type": "code",
   "execution_count": 450,
   "metadata": {},
   "outputs": [],
   "source": [
    "# Convert to lowercase\n",
    "new_data['facilities'] = new_data['facilities'].str.lower()\n",
    "\n",
    "# Define facility patterns to extract\n",
    "facility_patterns = ['restaurant', 'bar', 'swimmingpools', 'internet', 'gym', 'pool']\n",
    "\n",
    "# Create a pattern for matching any facility pattern\n",
    "facility_pattern = '|'.join(facility_patterns)\n",
    "\n",
    "# Extract all facilities using the pattern\n",
    "new_data['facilities'] = new_data['facilities'].str.extractall(f'({facility_pattern})')[0].groupby(level=0).apply(list)"
   ]
  },
  {
   "cell_type": "code",
   "execution_count": 451,
   "metadata": {},
   "outputs": [],
   "source": [
    "ID = new_data['ID']"
   ]
  },
  {
   "cell_type": "code",
   "execution_count": 452,
   "metadata": {},
   "outputs": [],
   "source": [
    "new_data = new_data.drop('ID', axis=1)"
   ]
  },
  {
   "cell_type": "code",
   "execution_count": 453,
   "metadata": {},
   "outputs": [],
   "source": [
    "new_data['[unknown]'] = 0"
   ]
  },
  {
   "cell_type": "code",
   "execution_count": 454,
   "metadata": {},
   "outputs": [],
   "source": [
    "new_data['facilities'] = new_data['facilities'].fillna('[unknown]')"
   ]
  },
  {
   "cell_type": "code",
   "execution_count": 455,
   "metadata": {},
   "outputs": [],
   "source": [
    "new_data['rating'] = new_data['rating'].str.extract(r'(\\d+\\.\\d+)').astype(float)"
   ]
  },
  {
   "cell_type": "code",
   "execution_count": 456,
   "metadata": {},
   "outputs": [],
   "source": [
    "new_data['rating'].fillna(new_data['rating'].median(), inplace=True)"
   ]
  },
  {
   "cell_type": "code",
   "execution_count": 457,
   "metadata": {},
   "outputs": [],
   "source": [
    "new_data['location'] = label_encoder.fit_transform(new_data['location'])"
   ]
  },
  {
   "cell_type": "code",
   "execution_count": 458,
   "metadata": {},
   "outputs": [],
   "source": [
    "newdata_dummies = pd.get_dummies(new_data['facilities'].apply(pd.Series).stack()).sum(level=0)"
   ]
  },
  {
   "cell_type": "code",
   "execution_count": 459,
   "metadata": {},
   "outputs": [],
   "source": [
    "new_data_encoded = pd.concat([new_data, newdata_dummies], axis=1)\n",
    "new_data_encoded = new_data_encoded.drop('facilities', axis=1)"
   ]
  },
  {
   "cell_type": "code",
   "execution_count": 460,
   "metadata": {},
   "outputs": [
    {
     "data": {
      "text/html": [
       "<div>\n",
       "<style scoped>\n",
       "    .dataframe tbody tr th:only-of-type {\n",
       "        vertical-align: middle;\n",
       "    }\n",
       "\n",
       "    .dataframe tbody tr th {\n",
       "        vertical-align: top;\n",
       "    }\n",
       "\n",
       "    .dataframe thead th {\n",
       "        text-align: right;\n",
       "    }\n",
       "</style>\n",
       "<table border=\"1\" class=\"dataframe\">\n",
       "  <thead>\n",
       "    <tr style=\"text-align: right;\">\n",
       "      <th></th>\n",
       "      <th>rating</th>\n",
       "      <th>location</th>\n",
       "      <th>[unknown]</th>\n",
       "      <th>bar</th>\n",
       "      <th>gym</th>\n",
       "      <th>internet</th>\n",
       "      <th>pool</th>\n",
       "      <th>restaurant</th>\n",
       "      <th>swimmingpools</th>\n",
       "    </tr>\n",
       "  </thead>\n",
       "  <tbody>\n",
       "    <tr>\n",
       "      <th>0</th>\n",
       "      <td>8.0</td>\n",
       "      <td>3</td>\n",
       "      <td>0</td>\n",
       "      <td>1</td>\n",
       "      <td>1</td>\n",
       "      <td>1</td>\n",
       "      <td>0</td>\n",
       "      <td>1</td>\n",
       "      <td>1</td>\n",
       "    </tr>\n",
       "    <tr>\n",
       "      <th>1</th>\n",
       "      <td>7.4</td>\n",
       "      <td>1</td>\n",
       "      <td>0</td>\n",
       "      <td>1</td>\n",
       "      <td>1</td>\n",
       "      <td>1</td>\n",
       "      <td>1</td>\n",
       "      <td>1</td>\n",
       "      <td>0</td>\n",
       "    </tr>\n",
       "    <tr>\n",
       "      <th>2</th>\n",
       "      <td>0.0</td>\n",
       "      <td>1</td>\n",
       "      <td>0</td>\n",
       "      <td>1</td>\n",
       "      <td>1</td>\n",
       "      <td>1</td>\n",
       "      <td>0</td>\n",
       "      <td>0</td>\n",
       "      <td>1</td>\n",
       "    </tr>\n",
       "    <tr>\n",
       "      <th>3</th>\n",
       "      <td>6.8</td>\n",
       "      <td>0</td>\n",
       "      <td>0</td>\n",
       "      <td>1</td>\n",
       "      <td>1</td>\n",
       "      <td>0</td>\n",
       "      <td>0</td>\n",
       "      <td>1</td>\n",
       "      <td>1</td>\n",
       "    </tr>\n",
       "    <tr>\n",
       "      <th>4</th>\n",
       "      <td>0.0</td>\n",
       "      <td>1</td>\n",
       "      <td>0</td>\n",
       "      <td>1</td>\n",
       "      <td>1</td>\n",
       "      <td>0</td>\n",
       "      <td>1</td>\n",
       "      <td>1</td>\n",
       "      <td>0</td>\n",
       "    </tr>\n",
       "    <tr>\n",
       "      <th>5</th>\n",
       "      <td>0.0</td>\n",
       "      <td>0</td>\n",
       "      <td>0</td>\n",
       "      <td>1</td>\n",
       "      <td>1</td>\n",
       "      <td>1</td>\n",
       "      <td>0</td>\n",
       "      <td>1</td>\n",
       "      <td>1</td>\n",
       "    </tr>\n",
       "    <tr>\n",
       "      <th>6</th>\n",
       "      <td>7.1</td>\n",
       "      <td>6</td>\n",
       "      <td>0</td>\n",
       "      <td>1</td>\n",
       "      <td>1</td>\n",
       "      <td>0</td>\n",
       "      <td>1</td>\n",
       "      <td>1</td>\n",
       "      <td>0</td>\n",
       "    </tr>\n",
       "    <tr>\n",
       "      <th>7</th>\n",
       "      <td>5.1</td>\n",
       "      <td>3</td>\n",
       "      <td>0</td>\n",
       "      <td>1</td>\n",
       "      <td>1</td>\n",
       "      <td>0</td>\n",
       "      <td>1</td>\n",
       "      <td>1</td>\n",
       "      <td>0</td>\n",
       "    </tr>\n",
       "    <tr>\n",
       "      <th>8</th>\n",
       "      <td>5.8</td>\n",
       "      <td>2</td>\n",
       "      <td>0</td>\n",
       "      <td>1</td>\n",
       "      <td>1</td>\n",
       "      <td>0</td>\n",
       "      <td>0</td>\n",
       "      <td>1</td>\n",
       "      <td>1</td>\n",
       "    </tr>\n",
       "    <tr>\n",
       "      <th>9</th>\n",
       "      <td>7.3</td>\n",
       "      <td>7</td>\n",
       "      <td>0</td>\n",
       "      <td>1</td>\n",
       "      <td>1</td>\n",
       "      <td>0</td>\n",
       "      <td>0</td>\n",
       "      <td>1</td>\n",
       "      <td>1</td>\n",
       "    </tr>\n",
       "  </tbody>\n",
       "</table>\n",
       "</div>"
      ],
      "text/plain": [
       "   rating  location  [unknown]  bar  gym  internet  pool  restaurant  \\\n",
       "0     8.0         3          0    1    1         1     0           1   \n",
       "1     7.4         1          0    1    1         1     1           1   \n",
       "2     0.0         1          0    1    1         1     0           0   \n",
       "3     6.8         0          0    1    1         0     0           1   \n",
       "4     0.0         1          0    1    1         0     1           1   \n",
       "5     0.0         0          0    1    1         1     0           1   \n",
       "6     7.1         6          0    1    1         0     1           1   \n",
       "7     5.1         3          0    1    1         0     1           1   \n",
       "8     5.8         2          0    1    1         0     0           1   \n",
       "9     7.3         7          0    1    1         0     0           1   \n",
       "\n",
       "   swimmingpools  \n",
       "0              1  \n",
       "1              0  \n",
       "2              1  \n",
       "3              1  \n",
       "4              0  \n",
       "5              1  \n",
       "6              0  \n",
       "7              0  \n",
       "8              1  \n",
       "9              1  "
      ]
     },
     "execution_count": 460,
     "metadata": {},
     "output_type": "execute_result"
    }
   ],
   "source": [
    "new_data_encoded.head(10)"
   ]
  },
  {
   "cell_type": "code",
   "execution_count": 470,
   "metadata": {},
   "outputs": [],
   "source": [
    "predictions = modelDT.predict(new_data_encoded)"
   ]
  },
  {
   "cell_type": "code",
   "execution_count": 471,
   "metadata": {},
   "outputs": [],
   "source": [
    "# Create a new DataFrame with the predictions\n",
    "predictions = predictions.astype(int)\n",
    "\n",
    "predictions_df = pd.DataFrame({'Price': predictions.flatten()})\n",
    "predictions_df = pd.concat([ID, predictions_df], axis=1)"
   ]
  },
  {
   "cell_type": "code",
   "execution_count": 472,
   "metadata": {},
   "outputs": [],
   "source": [
    "# Save the predictions to a new CSV file\n",
    "predictions_df.to_csv('predictions.csv', index=False)"
   ]
  }
 ],
 "metadata": {
  "kernelspec": {
   "display_name": "DaSci",
   "language": "python",
   "name": "python3"
  },
  "language_info": {
   "codemirror_mode": {
    "name": "ipython",
    "version": 3
   },
   "file_extension": ".py",
   "mimetype": "text/x-python",
   "name": "python",
   "nbconvert_exporter": "python",
   "pygments_lexer": "ipython3",
   "version": "3.8.10"
  },
  "orig_nbformat": 4
 },
 "nbformat": 4,
 "nbformat_minor": 2
}
