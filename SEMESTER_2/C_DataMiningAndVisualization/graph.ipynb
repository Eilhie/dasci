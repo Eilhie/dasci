{
 "cells": [
  {
   "cell_type": "code",
   "execution_count": null,
   "metadata": {},
   "outputs": [],
   "source": [
    "# information about columns\n",
    "\n",
    "\n",
    "# Date\n",
    "# Reporting date.\n",
    "\n",
    "# Location ISO Code\n",
    "# Location codes based on ISO standards.\n",
    "\n",
    "# Location\n",
    "# Location name.\n",
    "\n",
    "# New Cases\n",
    "# New daily positive cases.\n",
    "\n",
    "# New Deaths\n",
    "# New daily deaths.\n",
    "\n",
    "# New Recovered\n",
    "# New daily recovered.\n",
    "\n",
    "# New Active Cases\n",
    "# New daily active cases.\n",
    "\n",
    "# Total Cases\n",
    "# Total positive cases until the related date.\n",
    "\n",
    "# Total Deaths\n",
    "# Total deaths until the related date.\n",
    "\n",
    "# Total Recovered\n",
    "# Total recovered until the related date.\n",
    "\n",
    "# Total Active Cases\n",
    "# Total active cases until the related date.\n",
    "\n",
    "# Location Level\n",
    "# Location level.\n",
    "\n",
    "# City or Regency\n",
    "# City or district name of location.\n",
    "\n",
    "# Province\n",
    "# Province name of location.\n",
    "\n",
    "# Country\n",
    "# Country name of location.\n",
    "\n",
    "# Continent\n",
    "# Continent name of location.\n",
    "\n",
    "# Island\n",
    "# Major island name of location.\n",
    "\n",
    "# Time Zone\n",
    "# Time zone of location.\n",
    "\n",
    "# Special Status\n",
    "# Special status of location.\n",
    "\n",
    "# Total Regencies\n",
    "# Number of regencies in the location.\n",
    "\n",
    "# Total Cities\n",
    "# Number of cities in the location.\n",
    "\n",
    "# Total Districts\n",
    "# Number of districts in the location.\n",
    "\n",
    "# Total Urban Villages\n",
    "# Number of urban villages in the location.\n",
    "\n",
    "# Total Rural Villages\n",
    "# Number of rural villages in the location.\n",
    "\n",
    "# Area (km2)\n",
    "# Location area (km2).\n",
    "\n",
    "# Population\n",
    "# Population in the location.\n",
    "\n",
    "# Population Density\n",
    "# Population density in the location (Formula: Population / Area).\n",
    "\n",
    "# Longitude\n",
    "# Longitude of location.\n",
    "\n",
    "# Latitude\n",
    "# Latitude of location.\n",
    "\n",
    "# New Cases per Million\n",
    "# Formula: (New Cases / Population) * 1000000\n",
    "\n",
    "# Total Cases per Million\n",
    "# Formula: (Total Cases / Population) * 1000000\n",
    "\n",
    "# New Deaths per Million\n",
    "# Formula: (New Deaths / Population) * 1000000\n",
    "\n",
    "# Total Deaths per Million\n",
    "# Formula: (Total Deaths / Population) * 1000000\n",
    "\n",
    "# Total Deaths per 100rb\n",
    "# Formula: (Total Deaths / Total Cases) * 100\n",
    "\n",
    "# Case Fatality Rate\n",
    "# Formula: (Total deaths / total cases) * 100\n",
    "\n",
    "# Case Recovered Rate\n",
    "# Formula: (Total Recovered / Total Cases) * 100\n",
    "\n",
    "# Growth Factor of New Cases\n",
    "# Under 1 means decrease, 1 means flat, above 1 means increase. Formula: Today New Cases / Yesterday New Cases\n",
    "\n",
    "# Growth Factor of New Deaths\n",
    "# Under 1 means decrease, 1 means flat, above 1 means increase. Formula: Today New Deaths / Yesterday New Deaths"
   ]
  },
  {
   "cell_type": "code",
   "execution_count": null,
   "metadata": {},
   "outputs": [],
   "source": [
    "# run on terminal source /home/eilhie/anaconda3/bin/activate\n",
    "from matplotlib import pyplot as plt\n",
    "from sklearn import datasets\n",
    "import pandas as pd\n",
    "import scipy\n",
    "import numpy as np\n",
    "import seaborn as sns"
   ]
  },
  {
   "cell_type": "code",
   "execution_count": null,
   "metadata": {},
   "outputs": [],
   "source": [
    "df = pd.read_csv(\"vgsales.csv\")\n",
    "df"
   ]
  },
  {
   "cell_type": "code",
   "execution_count": null,
   "metadata": {},
   "outputs": [],
   "source": [
    "df.describe()"
   ]
  },
  {
   "cell_type": "code",
   "execution_count": null,
   "metadata": {},
   "outputs": [],
   "source": [
    "df.info()"
   ]
  },
  {
   "cell_type": "code",
   "execution_count": null,
   "metadata": {},
   "outputs": [],
   "source": [
    "df.head()"
   ]
  },
  {
   "cell_type": "code",
   "execution_count": null,
   "metadata": {},
   "outputs": [],
   "source": [
    "df.isnull().sum()\n",
    "# province ada missing data"
   ]
  },
  {
   "cell_type": "code",
   "execution_count": null,
   "metadata": {},
   "outputs": [],
   "source": [
    "df_copy = df.copy()\n",
    "# for data manipulation"
   ]
  },
  {
   "cell_type": "code",
   "execution_count": null,
   "metadata": {},
   "outputs": [],
   "source": [
    "df.describe()"
   ]
  },
  {
   "cell_type": "code",
   "execution_count": null,
   "metadata": {},
   "outputs": [],
   "source": [
    "# data cleaning\n",
    "\n",
    "df_copy.isnull().sum()"
   ]
  },
  {
   "cell_type": "code",
   "execution_count": 60,
   "metadata": {},
   "outputs": [],
   "source": [
    "df_copy = df_copy.drop('Publisher', axis=1)"
   ]
  },
  {
   "cell_type": "code",
   "execution_count": 58,
   "metadata": {},
   "outputs": [],
   "source": [
    "df_copy[\"Year\"].fillna(df_copy[\"Year\"].median(),inplace = True)"
   ]
  },
  {
   "cell_type": "code",
   "execution_count": 61,
   "metadata": {},
   "outputs": [
    {
     "data": {
      "text/plain": [
       "Rank            0\n",
       "Name            0\n",
       "Platform        0\n",
       "Year            0\n",
       "Genre           0\n",
       "NA_Sales        0\n",
       "EU_Sales        0\n",
       "JP_Sales        0\n",
       "Other_Sales     0\n",
       "Global_Sales    0\n",
       "dtype: int64"
      ]
     },
     "execution_count": 61,
     "metadata": {},
     "output_type": "execute_result"
    }
   ],
   "source": [
    "df_copy.isnull().sum()"
   ]
  },
  {
   "cell_type": "code",
   "execution_count": 52,
   "metadata": {},
   "outputs": [
    {
     "data": {
      "text/plain": [
       "<AxesSubplot: xlabel='Global_Sales', ylabel='Genre'>"
      ]
     },
     "execution_count": 52,
     "metadata": {},
     "output_type": "execute_result"
    },
    {
     "data": {
      "image/png": "[encoded data removed]",
      "text/plain": [
       "<Figure size 640x480 with 1 Axes>"
      ]
     },
     "metadata": {},
     "output_type": "display_data"
    }
   ],
   "source": [
    "sns.barplot(data=df, y='Genre', x='Global_Sales')"
   ]
  }
 ],
 "metadata": {
  "kernelspec": {
   "display_name": "base",
   "language": "python",
   "name": "python3"
  },
  "language_info": {
   "codemirror_mode": {
    "name": "ipython",
    "version": 3
   },
   "file_extension": ".py",
   "mimetype": "text/x-python",
   "name": "python",
   "nbconvert_exporter": "python",
   "pygments_lexer": "ipython3",
   "version": "3.9.13"
  },
  "orig_nbformat": 4,
  "vscode": {
   "interpreter": {
    "hash": "97b5649f8a5aa6d3d8a5eeb287d69ac3c2090bdb6e5508469ce78002014fb607"
   }
  }
 },
 "nbformat": 4,
 "nbformat_minor": 2
}
