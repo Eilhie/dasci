{
 "cells": [
  {
   "cell_type": "code",
   "execution_count": 6,
   "id": "b6d66b2a",
   "metadata": {},
   "outputs": [
    {
     "name": "stdout",
     "output_type": "stream",
     "text": [
      "A text file can have many words in it\n",
      "These words are written on the second line\n",
      "Third line\n",
      "Fourth line\n",
      "Fifth line\n",
      "Sixth line\n",
      "Seventh line\n",
      "Eighth line\n",
      "Ninth line\n",
      "Tenth line. This is the end of the text file!\n"
     ]
    }
   ],
   "source": [
    "with open('sample.txt', 'r') as reader:\n",
    "    print(reader.read())"
   ]
  },
  {
   "cell_type": "code",
   "execution_count": 7,
   "id": "5d08255e",
   "metadata": {},
   "outputs": [
    {
     "name": "stdout",
     "output_type": "stream",
     "text": [
      "['A text file can have many words in it\\n', 'These words are written on the second line\\n', 'Third line\\n', 'Fourth line\\n', 'Fifth line\\n', 'Sixth line\\n', 'Seventh line\\n', 'Eighth line\\n', 'Ninth line\\n', 'Tenth line. This is the end of the text file!']\n"
     ]
    }
   ],
   "source": [
    "with open('sample.txt', 'r') as reader:\n",
    "    print(reader.readlines())"
   ]
  },
  {
   "cell_type": "code",
   "execution_count": 12,
   "id": "1e963480",
   "metadata": {},
   "outputs": [
    {
     "name": "stdout",
     "output_type": "stream",
     "text": [
      "{'Username': 'booker12', 'Login email': 'rachel@example.com', 'Identifier': '9012', 'First name': 'Rachel', 'Last name': 'Booker'}\n",
      "{'Username': 'grey07', 'Login email': '', 'Identifier': '2070', 'First name': 'Laura', 'Last name': 'Grey'}\n",
      "{'Username': 'johnson81', 'Login email': '', 'Identifier': '4081', 'First name': 'Craig', 'Last name': 'Johnson'}\n",
      "{'Username': 'jenkins46', 'Login email': 'mary@example.com', 'Identifier': '9346', 'First name': 'Mary', 'Last name': 'Jenkins'}\n",
      "{'Username': 'smith79', 'Login email': 'jamie@example.com', 'Identifier': '5079', 'First name': 'Jamie', 'Last name': 'Smith'}\n"
     ]
    }
   ],
   "source": [
    "import csv\n",
    "with open('sample.csv', 'r') as file:\n",
    "    lines = csv.DictReader(file, delimiter=',')\n",
    "    for line in lines:\n",
    "        print(line)"
   ]
  },
  {
   "cell_type": "code",
   "execution_count": 14,
   "id": "6a1ca9a2",
   "metadata": {},
   "outputs": [
    {
     "name": "stdout",
     "output_type": "stream",
     "text": [
      "['Username', 'Login email', 'Identifier', 'First name', 'Last name']\n",
      "['booker12', 'rachel@example.com', '9012', 'Rachel', 'Booker']\n",
      "['grey07', '', '2070', 'Laura', 'Grey']\n",
      "['johnson81', '', '4081', 'Craig', 'Johnson']\n",
      "['jenkins46', 'mary@example.com', '9346', 'Mary', 'Jenkins']\n",
      "['smith79', 'jamie@example.com', '5079', 'Jamie', 'Smith']\n"
     ]
    }
   ],
   "source": [
    "with open('sample.csv', 'r') as file:\n",
    "    lines = csv.reader(file, delimiter=',')\n",
    "    for line in lines:\n",
    "        print(line)"
   ]
  },
  {
   "cell_type": "code",
   "execution_count": 1,
   "id": "3c8d5bd7",
   "metadata": {},
   "outputs": [
    {
     "data": {
      "text/html": [
       "<div>\n",
       "<style scoped>\n",
       "    .dataframe tbody tr th:only-of-type {\n",
       "        vertical-align: middle;\n",
       "    }\n",
       "\n",
       "    .dataframe tbody tr th {\n",
       "        vertical-align: top;\n",
       "    }\n",
       "\n",
       "    .dataframe thead th {\n",
       "        text-align: right;\n",
       "    }\n",
       "</style>\n",
       "<table border=\"1\" class=\"dataframe\">\n",
       "  <thead>\n",
       "    <tr style=\"text-align: right;\">\n",
       "      <th></th>\n",
       "      <th>Username</th>\n",
       "      <th>Login email</th>\n",
       "      <th>Identifier</th>\n",
       "      <th>First name</th>\n",
       "      <th>Last name</th>\n",
       "    </tr>\n",
       "  </thead>\n",
       "  <tbody>\n",
       "    <tr>\n",
       "      <th>0</th>\n",
       "      <td>booker12</td>\n",
       "      <td>rachel@example.com</td>\n",
       "      <td>9012</td>\n",
       "      <td>Rachel</td>\n",
       "      <td>Booker</td>\n",
       "    </tr>\n",
       "    <tr>\n",
       "      <th>1</th>\n",
       "      <td>grey07</td>\n",
       "      <td>NaN</td>\n",
       "      <td>2070</td>\n",
       "      <td>Laura</td>\n",
       "      <td>Grey</td>\n",
       "    </tr>\n",
       "    <tr>\n",
       "      <th>2</th>\n",
       "      <td>johnson81</td>\n",
       "      <td>NaN</td>\n",
       "      <td>4081</td>\n",
       "      <td>Craig</td>\n",
       "      <td>Johnson</td>\n",
       "    </tr>\n",
       "    <tr>\n",
       "      <th>3</th>\n",
       "      <td>jenkins46</td>\n",
       "      <td>mary@example.com</td>\n",
       "      <td>9346</td>\n",
       "      <td>Mary</td>\n",
       "      <td>Jenkins</td>\n",
       "    </tr>\n",
       "    <tr>\n",
       "      <th>4</th>\n",
       "      <td>smith79</td>\n",
       "      <td>jamie@example.com</td>\n",
       "      <td>5079</td>\n",
       "      <td>Jamie</td>\n",
       "      <td>Smith</td>\n",
       "    </tr>\n",
       "  </tbody>\n",
       "</table>\n",
       "</div>"
      ],
      "text/plain": [
       "    Username         Login email  Identifier First name Last name\n",
       "0   booker12  rachel@example.com        9012     Rachel    Booker\n",
       "1     grey07                 NaN        2070      Laura      Grey\n",
       "2  johnson81                 NaN        4081      Craig   Johnson\n",
       "3  jenkins46    mary@example.com        9346       Mary   Jenkins\n",
       "4    smith79   jamie@example.com        5079      Jamie     Smith"
      ]
     },
     "execution_count": 1,
     "metadata": {},
     "output_type": "execute_result"
    }
   ],
   "source": [
    "import pandas as pd\n",
    "df = pd.read_csv('sample.csv')\n",
    "df.head()"
   ]
  }
 ],
 "metadata": {
  "kernelspec": {
   "display_name": "BINUS",
   "language": "python",
   "name": "python3"
  },
  "language_info": {
   "codemirror_mode": {
    "name": "ipython",
    "version": 3
   },
   "file_extension": ".py",
   "mimetype": "text/x-python",
   "name": "python",
   "nbconvert_exporter": "python",
   "pygments_lexer": "ipython3",
   "version": "3.9.13"
  },
  "vscode": {
   "interpreter": {
    "hash": "53f52eb8914f53dd1cf95ff076c4bff9c539df003e278792013d7f0b9449bf56"
   }
  }
 },
 "nbformat": 4,
 "nbformat_minor": 5
}
